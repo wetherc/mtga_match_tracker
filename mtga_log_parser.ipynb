{
 "cells": [
  {
   "cell_type": "code",
   "execution_count": null,
   "id": "a0a5cde2-be39-4cbc-a5a9-4a00718362e6",
   "metadata": {},
   "outputs": [],
   "source": [
    "import json\n",
    "import datetime\n",
    "import pandas as pd"
   ]
  },
  {
   "cell_type": "code",
   "execution_count": null,
   "id": "601185fb-6607-4b8c-b73a-33b6da2e1a1e",
   "metadata": {},
   "outputs": [],
   "source": [
    "deck_data = []\n",
    "malformed_deck_data = []\n",
    "match_data = []\n",
    "malformed_data = []"
   ]
  },
  {
   "cell_type": "code",
   "execution_count": null,
   "id": "36cb93ef-bced-4c0a-bf27-bf50c98fd940",
   "metadata": {},
   "outputs": [],
   "source": [
    "BASE_PATH = \"/mnt/c/Users/chris\""
   ]
  },
  {
   "cell_type": "code",
   "execution_count": null,
   "id": "50843f0b-0284-4007-8a22-e49a60fae5f7",
   "metadata": {},
   "outputs": [],
   "source": [
    "with open(f\"{BASE_PATH}/AppData/LocalLow/Wizards Of The Coast/MTGA/Player.log\", \"r\") as f:\n",
    "    for line in f.readlines():\n",
    "        if line.startswith('{\"Summary\":{\"DeckId\":') is True:\n",
    "            try:\n",
    "                deck_data.append(json.loads(line))\n",
    "            except:\n",
    "                malformed_deck_data.append(line)\n",
    "        elif '\"stateType\": \"MatchGameRoomStateType_MatchCompleted\"' in line:\n",
    "            try:\n",
    "                match_data.append(json.loads(line))\n",
    "            except:\n",
    "                malformed_data.append(line)"
   ]
  },
  {
   "cell_type": "code",
   "execution_count": null,
   "id": "e4246f46-e96d-493e-8659-672e57969797",
   "metadata": {
    "scrolled": true
   },
   "outputs": [],
   "source": [
    "assert len(deck_data) == len(match_data)"
   ]
  },
  {
   "cell_type": "code",
   "execution_count": null,
   "id": "705a7675-986d-4dbe-9b17-e7742cf3283c",
   "metadata": {},
   "outputs": [],
   "source": [
    "match_data_parsed = [\n",
    "    {\n",
    "        \"game_id\": match[\"matchGameRoomStateChangedEvent\"][\"gameRoomInfo\"][\"gameRoomConfig\"][\"matchId\"],\n",
    "        \"timestamp\": datetime.datetime.fromtimestamp(int(match[\"timestamp\"]) / 1000),\n",
    "        \"deck_name\": deck[\"Summary\"][\"Name\"],\n",
    "        \"game_won\": [\n",
    "            player[\"teamId\"] for player in match[\"matchGameRoomStateChangedEvent\"][\"gameRoomInfo\"][\"gameRoomConfig\"][\"reservedPlayers\"]\n",
    "            if player[\"playerName\"] == \"spantz\"\n",
    "        ][0] == [\n",
    "            result[\"winningTeamId\"] for result in match[\"matchGameRoomStateChangedEvent\"][\"gameRoomInfo\"][\"finalMatchResult\"][\"resultList\"]\n",
    "            if result[\"scope\"] == \"MatchScope_Game\"\n",
    "        ][0]\n",
    "    } for deck, match in zip(deck_data, match_data)\n",
    "]"
   ]
  },
  {
   "cell_type": "code",
   "execution_count": null,
   "id": "578e2d7f-3c25-4bb2-833c-2dff8b3cc19e",
   "metadata": {},
   "outputs": [],
   "source": [
    "match_df = pd.DataFrame(match_data_parsed)"
   ]
  },
  {
   "cell_type": "code",
   "execution_count": null,
   "id": "25b8acbe-5079-4129-a58f-24e7d20e7890",
   "metadata": {},
   "outputs": [],
   "source": [
    "match_df.to_csv(f\"{BASE_PATH}/Desktop/mtga_match_log.csv\", index=False, header=False, mode=\"a\")"
   ]
  },
  {
   "cell_type": "code",
   "execution_count": null,
   "id": "935079d5-5f9a-4f13-939a-96f6ff3f0ae6",
   "metadata": {},
   "outputs": [],
   "source": [
    "import shutil\n",
    "import os\n",
    "import time\n",
    "\n",
    "\n",
    "source_path = f\"{BASE_PATH}/AppData/LocalLow/Wizards Of The Coast/MTGA/Player.log\"\n",
    "destination_path = f\"{BASE_PATH}/AppData/LocalLow/Wizards Of The Coast/MTGA/Player_{time.time_ns()}.log\"\n",
    "\n",
    "# Ensure the source file exists\n",
    "if os.path.exists(source_path):\n",
    "    shutil.move(source_path, destination_path)\n",
    "    print(f\"File moved from {source_path} to {destination_path}\")\n",
    "else:\n",
    "    print(f\"Source file {source_path} not found.\")"
   ]
  }
 ],
 "metadata": {
  "kernelspec": {
   "display_name": "Python 3 (ipykernel)",
   "language": "python",
   "name": "python3"
  },
  "language_info": {
   "codemirror_mode": {
    "name": "ipython",
    "version": 3
   },
   "file_extension": ".py",
   "mimetype": "text/x-python",
   "name": "python",
   "nbconvert_exporter": "python",
   "pygments_lexer": "ipython3",
   "version": "3.10.12"
  }
 },
 "nbformat": 4,
 "nbformat_minor": 5
}
