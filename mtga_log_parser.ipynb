{
 "cells": [
  {
   "cell_type": "code",
   "execution_count": null,
   "id": "a0a5cde2-be39-4cbc-a5a9-4a00718362e6",
   "metadata": {},
   "outputs": [],
   "source": [
    "import json\n",
    "import datetime\n",
    "import requests\n",
    "import shutil\n",
    "import os\n",
    "import time\n",
    "import pandas as pd"
   ]
  },
  {
   "cell_type": "code",
   "execution_count": null,
   "id": "36cb93ef-bced-4c0a-bf27-bf50c98fd940",
   "metadata": {},
   "outputs": [],
   "source": [
    "BASE_PATH = \"/mnt/c/Users/chris\"\n",
    "APP_DATA_PATH = \"AppData/LocalLow/Wizards Of The Coast/MTGA\"\n",
    "PLAYER_NAME = \"spantz\""
   ]
  },
  {
   "cell_type": "code",
   "execution_count": null,
   "id": "50843f0b-0284-4007-8a22-e49a60fae5f7",
   "metadata": {},
   "outputs": [],
   "source": [
    "deck_data = []\n",
    "match_data = []\n",
    "match_commanders = {}\n",
    "\n",
    "_set_deck_string = \"[UnityCrossThreadLogger]==> EventSetDeckV2 \"\n",
    "\n",
    "with open(f\"{BASE_PATH}/{APP_DATA_PATH}/Player.log\", \"r\") as f:\n",
    "    for line in f.readlines():\n",
    "        if \"GameStage_Start\" in line:\n",
    "            line = json.loads(line)\n",
    "\n",
    "            commander_blob = [\n",
    "                message for message in line[\"greToClientEvent\"][\"greToClientMessages\"]\n",
    "                if message[\"type\"] == \"GREMessageType_GameStateMessage\"\n",
    "            ][0][\"gameStateMessage\"][\"gameObjects\"]\n",
    "\n",
    "            match_id = [\n",
    "                message for message in line[\"greToClientEvent\"][\"greToClientMessages\"]\n",
    "                if message[\"type\"] == \"GREMessageType_GameStateMessage\"\n",
    "            ][0][\"gameStateMessage\"][\"gameInfo\"][\"matchID\"]\n",
    "            \n",
    "            if match_id not in match_commanders.keys():\n",
    "                match_commanders[match_id] = [{\n",
    "                    \"player_seat_id\": player[\"ownerSeatId\"],\n",
    "                    \"commander\": player[\"grpId\"]\n",
    "                } for player in commander_blob]\n",
    "        elif line.startswith(_set_deck_string):\n",
    "            # 🥲\n",
    "            # but can also save off the full decklist if we want from this\n",
    "            deck_data.append(\n",
    "                json.loads(\n",
    "                    json.loads(\n",
    "                        line[(len(_set_deck_string)):].replace(\"\\n\", \"\")\n",
    "                    )[\"request\"]\n",
    "                )\n",
    "            )\n",
    "        elif '\"stateType\": \"MatchGameRoomStateType_MatchCompleted\"' in line:\n",
    "            match_data.append(json.loads(line))"
   ]
  },
  {
   "cell_type": "code",
   "execution_count": null,
   "id": "e4246f46-e96d-493e-8659-672e57969797",
   "metadata": {
    "scrolled": true
   },
   "outputs": [],
   "source": [
    "assert len(deck_data) == len(match_data)"
   ]
  },
  {
   "cell_type": "code",
   "execution_count": null,
   "id": "1a2dfefd-91e4-4deb-92d9-3ec8a6e17a4e",
   "metadata": {},
   "outputs": [],
   "source": [
    "print(len(match_data), len(deck_data))"
   ]
  },
  {
   "cell_type": "code",
   "execution_count": null,
   "id": "705a7675-986d-4dbe-9b17-e7742cf3283c",
   "metadata": {},
   "outputs": [],
   "source": [
    "match_data_parsed = []\n",
    "\n",
    "for deck, match in zip(deck_data, match_data):\n",
    "    player_seat = [\n",
    "        player[\"teamId\"] for player in match[\"matchGameRoomStateChangedEvent\"][\"gameRoomInfo\"][\"gameRoomConfig\"][\"reservedPlayers\"]\n",
    "        if player[\"playerName\"] == PLAYER_NAME\n",
    "    ][0]\n",
    "    \n",
    "    _match_data = {\n",
    "        \"game_id\": match[\"matchGameRoomStateChangedEvent\"][\"gameRoomInfo\"][\"gameRoomConfig\"][\"matchId\"],\n",
    "        \"timestamp\": datetime.datetime.fromtimestamp(int(match[\"timestamp\"]) / 1000),\n",
    "        \"deck_name\": deck[\"Summary\"][\"Name\"],\n",
    "        \"opponent\": [\n",
    "            player[\"playerName\"] for player in match[\"matchGameRoomStateChangedEvent\"][\"gameRoomInfo\"][\"gameRoomConfig\"][\"reservedPlayers\"]\n",
    "            if player[\"playerName\"] != PLAYER_NAME\n",
    "        ][0],\n",
    "        \"game_won\": [\n",
    "            result.get(\"winningTeamId\", None) for result in match[\"matchGameRoomStateChangedEvent\"][\"gameRoomInfo\"][\"finalMatchResult\"][\"resultList\"]\n",
    "            if result[\"scope\"] == \"MatchScope_Match\"\n",
    "        ][0] == player_seat,\n",
    "        \"game_result_reason\": [\n",
    "            result[\"reason\"] for result in match[\"matchGameRoomStateChangedEvent\"][\"gameRoomInfo\"][\"finalMatchResult\"][\"resultList\"]\n",
    "            if result[\"scope\"] == \"MatchScope_Match\"\n",
    "        ][0],\n",
    "        \"player_seat\": player_seat,\n",
    "        \"opponent_seat\": 3 - player_seat,\n",
    "    }\n",
    "\n",
    "    match_data_parsed.append(_match_data)"
   ]
  },
  {
   "cell_type": "code",
   "execution_count": null,
   "id": "578e2d7f-3c25-4bb2-833c-2dff8b3cc19e",
   "metadata": {},
   "outputs": [],
   "source": [
    "match_df = pd.DataFrame(match_data_parsed)"
   ]
  },
  {
   "cell_type": "code",
   "execution_count": null,
   "id": "46dda3d1-8c24-41a0-b735-a5044a8fcd11",
   "metadata": {},
   "outputs": [],
   "source": [
    "match_df"
   ]
  },
  {
   "cell_type": "code",
   "execution_count": null,
   "id": "8daebc14-599a-47e0-9d68-44e55c25c2f6",
   "metadata": {},
   "outputs": [],
   "source": [
    "def get_scryfall_name_from_arena_id(id: int):\n",
    "    resp = json.loads(requests.get(f\"https://api.scryfall.com/cards/arena/{id}\").text)\n",
    "    return resp.get(\"name\", id)\n",
    "\n",
    "def get_player_commanders(x):\n",
    "    _match = x[\"game_id\"]\n",
    "    try:\n",
    "        result = pd.Series([\n",
    "            get_scryfall_name_from_arena_id([\n",
    "                player[\"commander\"] for player in match_commanders[_match]\n",
    "                if player[\"player_seat_id\"] == x[\"player_seat\"]\n",
    "            ][0]),\n",
    "            get_scryfall_name_from_arena_id([\n",
    "                player[\"commander\"] for player in match_commanders[_match]\n",
    "                if player[\"player_seat_id\"] == x[\"opponent_seat\"]\n",
    "            ][0])\n",
    "        ])\n",
    "    except KeyError:\n",
    "        # In cases of a player disconnect or backend issue when matching,\n",
    "        # the match can immediately result in a draw with no player commander\n",
    "        # data ever being returned to the client\n",
    "        result = pd.Series([None, None])\n",
    "\n",
    "    return result\n",
    "    \n",
    "match_df[[\"player_commander\", \"opponent_commander\"]] = match_df.apply(lambda x: get_player_commanders(x), axis=1)"
   ]
  },
  {
   "cell_type": "code",
   "execution_count": null,
   "id": "e1050337-b757-4ca0-a8af-6fee93b5ab9d",
   "metadata": {},
   "outputs": [],
   "source": [
    "match_df = match_df.drop([\"player_seat\", \"opponent_seat\"], axis=1)"
   ]
  },
  {
   "cell_type": "code",
   "execution_count": null,
   "id": "204e49d6-fec4-4848-931f-7bb60d67ad52",
   "metadata": {},
   "outputs": [],
   "source": [
    "match_df"
   ]
  },
  {
   "cell_type": "code",
   "execution_count": null,
   "id": "79cdcf72-1e57-495c-b70b-5e65482acc86",
   "metadata": {},
   "outputs": [],
   "source": [
    "sum(match_df[\"game_won\"])/match_df.shape[0]"
   ]
  },
  {
   "cell_type": "code",
   "execution_count": null,
   "id": "25b8acbe-5079-4129-a58f-24e7d20e7890",
   "metadata": {},
   "outputs": [],
   "source": [
    "if os.path.exists(\"match_history/mtga_match_log.csv\"):\n",
    "    match_df.to_csv(f\"match_history/mtga_match_log.csv\", index=False, header=False, mode=\"a\")\n",
    "else:\n",
    "    os.makedirs(\"match_history\", exist_ok=True)\n",
    "    match_df.to_csv(f\"match_history/mtga_match_log.csv\", index=False, header=True, mode=\"w\")"
   ]
  },
  {
   "cell_type": "code",
   "execution_count": null,
   "id": "935079d5-5f9a-4f13-939a-96f6ff3f0ae6",
   "metadata": {},
   "outputs": [],
   "source": [
    "source_path = f\"{BASE_PATH}/{APP_DATA_PATH}/Player.log\"\n",
    "destination_path = f\"{BASE_PATH}/{APP_DATA_PATH}/Player_{time.time_ns()}.log\"\n",
    "\n",
    "# Ensure the source file exists\n",
    "if os.path.exists(source_path):\n",
    "    shutil.move(source_path, destination_path)\n",
    "    print(f\"File moved from {source_path} to {destination_path}\")\n",
    "else:\n",
    "    print(f\"Source file {source_path} not found.\")"
   ]
  }
 ],
 "metadata": {
  "kernelspec": {
   "display_name": "Python 3 (ipykernel)",
   "language": "python",
   "name": "python3"
  },
  "language_info": {
   "codemirror_mode": {
    "name": "ipython",
    "version": 3
   },
   "file_extension": ".py",
   "mimetype": "text/x-python",
   "name": "python",
   "nbconvert_exporter": "python",
   "pygments_lexer": "ipython3",
   "version": "3.10.12"
  }
 },
 "nbformat": 4,
 "nbformat_minor": 5
}
